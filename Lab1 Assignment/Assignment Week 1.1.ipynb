{
 "cells": [
  {
   "cell_type": "code",
   "execution_count": 2,
   "id": "4093ee0d",
   "metadata": {},
   "outputs": [
    {
     "name": "stdout",
     "output_type": "stream",
     "text": [
      "Enter Radius of a Circle : 5\n",
      "Area of the circle is :  78.54\n"
     ]
    }
   ],
   "source": [
    "r = float(input('Enter Radius of a Circle : '))\n",
    "area = 3.1416*r*r\n",
    "print('Area of the circle is : ',area)"
   ]
  },
  {
   "cell_type": "code",
   "execution_count": 9,
   "id": "42873dfc",
   "metadata": {},
   "outputs": [
    {
     "name": "stdout",
     "output_type": "stream",
     "text": [
      "Enter  a : 10\n",
      "Enter  b : 25\n",
      "Enter  c : 30\n",
      "30  is Greatest\n"
     ]
    }
   ],
   "source": [
    "def largest(a,b,c):\n",
    "    if(c<a>b):\n",
    "        print(a,' is Greatest')\n",
    "    elif(a<b>c):\n",
    "        print(b, ' is Greatest')\n",
    "    else:\n",
    "        print(c, ' is Greatest')\n",
    "\n",
    "a = int(input('Enter  a : '))\n",
    "b = int(input('Enter  b : '))\n",
    "c = int(input('Enter  c : '))\n",
    "\n",
    "largest(a,b,c)"
   ]
  },
  {
   "cell_type": "code",
   "execution_count": 12,
   "id": "317b4c9b",
   "metadata": {},
   "outputs": [
    {
     "name": "stdout",
     "output_type": "stream",
     "text": [
      "Enter String: abcde\n",
      "10001\n"
     ]
    }
   ],
   "source": [
    "def converter(c):\n",
    "    if c in ['a','e','i','o','u']:\n",
    "        return '1'\n",
    "    else:\n",
    "        return '0'\n",
    "\n",
    "s=''\n",
    "str = input('Enter String: ')\n",
    "for i in str:\n",
    "    k = converter(i)\n",
    "    s +=k\n",
    "print(s)\n",
    "\n",
    "\n",
    "    "
   ]
  },
  {
   "cell_type": "code",
   "execution_count": 14,
   "id": "337bfd1a",
   "metadata": {},
   "outputs": [
    {
     "name": "stdout",
     "output_type": "stream",
     "text": [
      "Enter a : 15\n",
      "Enter b : 20\n",
      "Enter Sign : *\n",
      "300.0\n"
     ]
    }
   ],
   "source": [
    "def calcu(a,b,c):\n",
    "    if c== '+':\n",
    "        return a+b\n",
    "    elif c=='-':\n",
    "        return a-b\n",
    "    elif c=='*':\n",
    "        return a*b\n",
    "    elif c=='/':\n",
    "        return a/b\n",
    "    else:\n",
    "        print('Wrong Input')\n",
    "        return 0\n",
    "\n",
    "a = float(input('Enter a : '))\n",
    "b = float(input('Enter b : '))\n",
    "c = input('Enter Sign : ')\n",
    "\n",
    "result = calcu(a,b,c)\n",
    "\n",
    "print(result)\n",
    "\n"
   ]
  },
  {
   "cell_type": "code",
   "execution_count": 15,
   "id": "8797cdfa",
   "metadata": {},
   "outputs": [
    {
     "name": "stdout",
     "output_type": "stream",
     "text": [
      "Enter String : abc\n",
      "abcabc\n"
     ]
    }
   ],
   "source": [
    "str = input('Enter String : ')\n",
    "str +=str\n",
    "print(str)"
   ]
  },
  {
   "cell_type": "code",
   "execution_count": 21,
   "id": "2ffd7cd7",
   "metadata": {},
   "outputs": [
    {
     "name": "stdout",
     "output_type": "stream",
     "text": [
      "['ux1P5', 'z1aP', 'Plabon']\n"
     ]
    }
   ],
   "source": [
    "def p_finder(s):\n",
    "    if 'P' in s:\n",
    "        return s\n",
    "\n",
    "li = [\"ux1P5\", \"rt0\", \"ft3\", \"z1aP\", \"Plabon\", \"plabon\"]\n",
    "\n",
    "\n",
    "w = filter(p_finder,li)\n",
    "print(list(w))"
   ]
  },
  {
   "cell_type": "code",
   "execution_count": 26,
   "id": "61d818bf",
   "metadata": {},
   "outputs": [
    {
     "name": "stdout",
     "output_type": "stream",
     "text": [
      "['ux1P5', 'rt0P', 'ft3P', 'z1aP', 'Plabon', 'plabonP']\n"
     ]
    }
   ],
   "source": [
    "def p_adder(s):\n",
    "    if 'P' in s:\n",
    "        return s\n",
    "    else:\n",
    "        return s+'P'\n",
    "\n",
    "li = [\"ux1P5\", \"rt0\", \"ft3\", \"z1aP\", \"Plabon\", \"plabon\"]\n",
    "\n",
    "\n",
    "w = map(p_adder,li)\n",
    "print(list(w))"
   ]
  },
  {
   "cell_type": "code",
   "execution_count": 31,
   "id": "3a8f2d76",
   "metadata": {},
   "outputs": [
    {
     "name": "stdout",
     "output_type": "stream",
     "text": [
      "Enter number of elements : 4\n",
      "Enter a number : 1\n",
      "Enter a number : 2\n",
      "Enter a number : 3\n",
      "Enter a number : 4\n",
      "10\n"
     ]
    }
   ],
   "source": [
    "from functools import reduce\n",
    "ki = []\n",
    "k = int(input('Enter number of elements : '))\n",
    "while(k>0):\n",
    "    ki.append(int(input('Enter a number : ')))\n",
    "    k-=1\n",
    "\n",
    "sum = 0\n",
    "for i in ki:\n",
    "    rslt = reduce(lambda a,b:a+b,ki)\n",
    "print(rslt)"
   ]
  },
  {
   "cell_type": "code",
   "execution_count": null,
   "id": "52e3c17d",
   "metadata": {},
   "outputs": [],
   "source": []
  }
 ],
 "metadata": {
  "kernelspec": {
   "display_name": "Python 3 (ipykernel)",
   "language": "python",
   "name": "python3"
  },
  "language_info": {
   "codemirror_mode": {
    "name": "ipython",
    "version": 3
   },
   "file_extension": ".py",
   "mimetype": "text/x-python",
   "name": "python",
   "nbconvert_exporter": "python",
   "pygments_lexer": "ipython3",
   "version": "3.10.10"
  }
 },
 "nbformat": 4,
 "nbformat_minor": 5
}
